{
  "cells": [
    {
      "cell_type": "markdown",
      "metadata": {
        "id": "0KULxQ9qBhlV"
      },
      "source": [
        "# Portfolio optimisation using Efficient Frontier with Sharpe ratio maximisation.\n",
        "\n",
        "This project will try to find the optimal weigths for each assets in the multi-asset portfolio using 2 methods, Scipy and PyPortfolioOpt. We aim to maximise the Sharpe ratio, recall that the Sharpe ratio is defined as\n",
        "$$ S_p = \\cfrac{\\mathbb{E}[R - r]}{\\sigma_p}  $$\n",
        "where $S_p$ is the Sharpe ratio of the portfolio and $R$ is the asset (annual) return, $r$ is the risk-free rate, and $\\sigma_p$ is the (annual) volatility of the portfolio.\n"
      ]
    },
    {
      "cell_type": "code",
      "execution_count": 223,
      "metadata": {
        "id": "q2H1jybHBhlX"
      },
      "outputs": [],
      "source": [
        "# importing dependencies\n",
        "import yfinance as yf\n",
        "import numpy as np\n",
        "import pandas as pd\n",
        "import matplotlib.pyplot as plt"
      ]
    },
    {
      "cell_type": "markdown",
      "metadata": {
        "id": "M49RGDYzBhlY"
      },
      "source": [
        "## Selecting assets to be in our portfolio"
      ]
    },
    {
      "cell_type": "code",
      "execution_count": 224,
      "metadata": {
        "id": "73MIEFU7BhlY"
      },
      "outputs": [],
      "source": [
        "# choosing assests for our portfolio\n",
        "stocks_list = ['JPM', 'WELL', 'TSLA', 'MSFT']"
      ]
    },
    {
      "cell_type": "code",
      "execution_count": 225,
      "metadata": {
        "colab": {
          "base_uri": "https://localhost:8080/",
          "height": 238
        },
        "id": "5eujI8RjBhlZ",
        "outputId": "4a5f093c-f573-4e7d-b823-1c66015dbabc"
      },
      "outputs": [
        {
          "output_type": "execute_result",
          "data": {
            "text/plain": [
              "                                  JPM       WELL        TSLA        MSFT\n",
              "Date                                                                    \n",
              "2021-08-25 00:00:00-04:00  151.684586  79.849495  237.066666  296.635956\n",
              "2021-08-26 00:00:00-04:00  152.466949  79.642555  233.720001  293.767883\n",
              "2021-08-27 00:00:00-04:00  153.692352  80.554962  237.306671  294.386688\n",
              "2021-08-30 00:00:00-04:00  151.232132  80.667839  243.636673  298.187775\n",
              "2021-08-31 00:00:00-04:00  150.770264  82.332741  245.240005  296.508270"
            ],
            "text/html": [
              "\n",
              "  <div id=\"df-5ee5a3ef-1925-4798-9fd7-9cca3da27f2b\" class=\"colab-df-container\">\n",
              "    <div>\n",
              "<style scoped>\n",
              "    .dataframe tbody tr th:only-of-type {\n",
              "        vertical-align: middle;\n",
              "    }\n",
              "\n",
              "    .dataframe tbody tr th {\n",
              "        vertical-align: top;\n",
              "    }\n",
              "\n",
              "    .dataframe thead th {\n",
              "        text-align: right;\n",
              "    }\n",
              "</style>\n",
              "<table border=\"1\" class=\"dataframe\">\n",
              "  <thead>\n",
              "    <tr style=\"text-align: right;\">\n",
              "      <th></th>\n",
              "      <th>JPM</th>\n",
              "      <th>WELL</th>\n",
              "      <th>TSLA</th>\n",
              "      <th>MSFT</th>\n",
              "    </tr>\n",
              "    <tr>\n",
              "      <th>Date</th>\n",
              "      <th></th>\n",
              "      <th></th>\n",
              "      <th></th>\n",
              "      <th></th>\n",
              "    </tr>\n",
              "  </thead>\n",
              "  <tbody>\n",
              "    <tr>\n",
              "      <th>2021-08-25 00:00:00-04:00</th>\n",
              "      <td>151.684586</td>\n",
              "      <td>79.849495</td>\n",
              "      <td>237.066666</td>\n",
              "      <td>296.635956</td>\n",
              "    </tr>\n",
              "    <tr>\n",
              "      <th>2021-08-26 00:00:00-04:00</th>\n",
              "      <td>152.466949</td>\n",
              "      <td>79.642555</td>\n",
              "      <td>233.720001</td>\n",
              "      <td>293.767883</td>\n",
              "    </tr>\n",
              "    <tr>\n",
              "      <th>2021-08-27 00:00:00-04:00</th>\n",
              "      <td>153.692352</td>\n",
              "      <td>80.554962</td>\n",
              "      <td>237.306671</td>\n",
              "      <td>294.386688</td>\n",
              "    </tr>\n",
              "    <tr>\n",
              "      <th>2021-08-30 00:00:00-04:00</th>\n",
              "      <td>151.232132</td>\n",
              "      <td>80.667839</td>\n",
              "      <td>243.636673</td>\n",
              "      <td>298.187775</td>\n",
              "    </tr>\n",
              "    <tr>\n",
              "      <th>2021-08-31 00:00:00-04:00</th>\n",
              "      <td>150.770264</td>\n",
              "      <td>82.332741</td>\n",
              "      <td>245.240005</td>\n",
              "      <td>296.508270</td>\n",
              "    </tr>\n",
              "  </tbody>\n",
              "</table>\n",
              "</div>\n",
              "    <div class=\"colab-df-buttons\">\n",
              "\n",
              "  <div class=\"colab-df-container\">\n",
              "    <button class=\"colab-df-convert\" onclick=\"convertToInteractive('df-5ee5a3ef-1925-4798-9fd7-9cca3da27f2b')\"\n",
              "            title=\"Convert this dataframe to an interactive table.\"\n",
              "            style=\"display:none;\">\n",
              "\n",
              "  <svg xmlns=\"http://www.w3.org/2000/svg\" height=\"24px\" viewBox=\"0 -960 960 960\">\n",
              "    <path d=\"M120-120v-720h720v720H120Zm60-500h600v-160H180v160Zm220 220h160v-160H400v160Zm0 220h160v-160H400v160ZM180-400h160v-160H180v160Zm440 0h160v-160H620v160ZM180-180h160v-160H180v160Zm440 0h160v-160H620v160Z\"/>\n",
              "  </svg>\n",
              "    </button>\n",
              "\n",
              "  <style>\n",
              "    .colab-df-container {\n",
              "      display:flex;\n",
              "      gap: 12px;\n",
              "    }\n",
              "\n",
              "    .colab-df-convert {\n",
              "      background-color: #E8F0FE;\n",
              "      border: none;\n",
              "      border-radius: 50%;\n",
              "      cursor: pointer;\n",
              "      display: none;\n",
              "      fill: #1967D2;\n",
              "      height: 32px;\n",
              "      padding: 0 0 0 0;\n",
              "      width: 32px;\n",
              "    }\n",
              "\n",
              "    .colab-df-convert:hover {\n",
              "      background-color: #E2EBFA;\n",
              "      box-shadow: 0px 1px 2px rgba(60, 64, 67, 0.3), 0px 1px 3px 1px rgba(60, 64, 67, 0.15);\n",
              "      fill: #174EA6;\n",
              "    }\n",
              "\n",
              "    .colab-df-buttons div {\n",
              "      margin-bottom: 4px;\n",
              "    }\n",
              "\n",
              "    [theme=dark] .colab-df-convert {\n",
              "      background-color: #3B4455;\n",
              "      fill: #D2E3FC;\n",
              "    }\n",
              "\n",
              "    [theme=dark] .colab-df-convert:hover {\n",
              "      background-color: #434B5C;\n",
              "      box-shadow: 0px 1px 3px 1px rgba(0, 0, 0, 0.15);\n",
              "      filter: drop-shadow(0px 1px 2px rgba(0, 0, 0, 0.3));\n",
              "      fill: #FFFFFF;\n",
              "    }\n",
              "  </style>\n",
              "\n",
              "    <script>\n",
              "      const buttonEl =\n",
              "        document.querySelector('#df-5ee5a3ef-1925-4798-9fd7-9cca3da27f2b button.colab-df-convert');\n",
              "      buttonEl.style.display =\n",
              "        google.colab.kernel.accessAllowed ? 'block' : 'none';\n",
              "\n",
              "      async function convertToInteractive(key) {\n",
              "        const element = document.querySelector('#df-5ee5a3ef-1925-4798-9fd7-9cca3da27f2b');\n",
              "        const dataTable =\n",
              "          await google.colab.kernel.invokeFunction('convertToInteractive',\n",
              "                                                    [key], {});\n",
              "        if (!dataTable) return;\n",
              "\n",
              "        const docLinkHtml = 'Like what you see? Visit the ' +\n",
              "          '<a target=\"_blank\" href=https://colab.research.google.com/notebooks/data_table.ipynb>data table notebook</a>'\n",
              "          + ' to learn more about interactive tables.';\n",
              "        element.innerHTML = '';\n",
              "        dataTable['output_type'] = 'display_data';\n",
              "        await google.colab.output.renderOutput(dataTable, element);\n",
              "        const docLink = document.createElement('div');\n",
              "        docLink.innerHTML = docLinkHtml;\n",
              "        element.appendChild(docLink);\n",
              "      }\n",
              "    </script>\n",
              "  </div>\n",
              "\n",
              "\n",
              "<div id=\"df-e88aa8fc-56a2-4822-9cca-d0486c155b88\">\n",
              "  <button class=\"colab-df-quickchart\" onclick=\"quickchart('df-e88aa8fc-56a2-4822-9cca-d0486c155b88')\"\n",
              "            title=\"Suggest charts.\"\n",
              "            style=\"display:none;\">\n",
              "\n",
              "<svg xmlns=\"http://www.w3.org/2000/svg\" height=\"24px\"viewBox=\"0 0 24 24\"\n",
              "     width=\"24px\">\n",
              "    <g>\n",
              "        <path d=\"M19 3H5c-1.1 0-2 .9-2 2v14c0 1.1.9 2 2 2h14c1.1 0 2-.9 2-2V5c0-1.1-.9-2-2-2zM9 17H7v-7h2v7zm4 0h-2V7h2v10zm4 0h-2v-4h2v4z\"/>\n",
              "    </g>\n",
              "</svg>\n",
              "  </button>\n",
              "\n",
              "<style>\n",
              "  .colab-df-quickchart {\n",
              "    background-color: #E8F0FE;\n",
              "    border: none;\n",
              "    border-radius: 50%;\n",
              "    cursor: pointer;\n",
              "    display: none;\n",
              "    fill: #1967D2;\n",
              "    height: 32px;\n",
              "    padding: 0 0 0 0;\n",
              "    width: 32px;\n",
              "  }\n",
              "\n",
              "  .colab-df-quickchart:hover {\n",
              "    background-color: #E2EBFA;\n",
              "    box-shadow: 0px 1px 2px rgba(60, 64, 67, 0.3), 0px 1px 3px 1px rgba(60, 64, 67, 0.15);\n",
              "    fill: #174EA6;\n",
              "  }\n",
              "\n",
              "  [theme=dark] .colab-df-quickchart {\n",
              "    background-color: #3B4455;\n",
              "    fill: #D2E3FC;\n",
              "  }\n",
              "\n",
              "  [theme=dark] .colab-df-quickchart:hover {\n",
              "    background-color: #434B5C;\n",
              "    box-shadow: 0px 1px 3px 1px rgba(0, 0, 0, 0.15);\n",
              "    filter: drop-shadow(0px 1px 2px rgba(0, 0, 0, 0.3));\n",
              "    fill: #FFFFFF;\n",
              "  }\n",
              "</style>\n",
              "\n",
              "  <script>\n",
              "    async function quickchart(key) {\n",
              "      const charts = await google.colab.kernel.invokeFunction(\n",
              "          'suggestCharts', [key], {});\n",
              "    }\n",
              "    (() => {\n",
              "      let quickchartButtonEl =\n",
              "        document.querySelector('#df-e88aa8fc-56a2-4822-9cca-d0486c155b88 button');\n",
              "      quickchartButtonEl.style.display =\n",
              "        google.colab.kernel.accessAllowed ? 'block' : 'none';\n",
              "    })();\n",
              "  </script>\n",
              "</div>\n",
              "    </div>\n",
              "  </div>\n"
            ]
          },
          "metadata": {},
          "execution_count": 225
        }
      ],
      "source": [
        "# reading the close from the past two years for each asset\n",
        "df = pd.DataFrame()\n",
        "\n",
        "for stocks in stocks_list:\n",
        "    data = yf.Ticker(stocks).history(period = 'max')[-504:]\n",
        "    df[stocks] = data['Close']\n",
        "    df.index = data.index\n",
        "\n",
        "df = df.dropna()\n",
        "df.head()"
      ]
    },
    {
      "cell_type": "markdown",
      "metadata": {
        "id": "LiZsCRKzBhla"
      },
      "source": [
        "## Assigning weights"
      ]
    },
    {
      "cell_type": "code",
      "execution_count": 226,
      "metadata": {
        "colab": {
          "base_uri": "https://localhost:8080/"
        },
        "id": "mut5G09CBhla",
        "outputId": "9ef11691-0cf2-45a2-b82c-32b4c5488a48"
      },
      "outputs": [
        {
          "output_type": "execute_result",
          "data": {
            "text/plain": [
              "array([0.01888835, 0.33994446, 0.38847202, 0.25269516])"
            ]
          },
          "metadata": {},
          "execution_count": 226
        }
      ],
      "source": [
        "# assigning weighs to our portfolio\n",
        "# for example purposes, we will just use random weights\n",
        "weights = np.random.random(len(stocks_list))\n",
        "weights /= np.sum(weights) # normalised the weights\n",
        "weights"
      ]
    },
    {
      "cell_type": "markdown",
      "metadata": {
        "id": "vFWBOcfABhla"
      },
      "source": [
        "## Computing the daily simple return for each assets in our portfolio"
      ]
    },
    {
      "cell_type": "code",
      "execution_count": 227,
      "metadata": {
        "colab": {
          "base_uri": "https://localhost:8080/",
          "height": 238
        },
        "id": "oPr073pNBhla",
        "outputId": "d6dcc904-a3d5-4a19-f017-4b8484eb0025"
      },
      "outputs": [
        {
          "output_type": "execute_result",
          "data": {
            "text/plain": [
              "                                JPM      WELL      TSLA      MSFT\n",
              "Date                                                             \n",
              "2021-08-26 00:00:00-04:00  0.005145 -0.002595 -0.014218 -0.009716\n",
              "2021-08-27 00:00:00-04:00  0.008005  0.011391  0.015229  0.002104\n",
              "2021-08-30 00:00:00-04:00 -0.016137  0.001400  0.026325  0.012829\n",
              "2021-08-31 00:00:00-04:00 -0.003059  0.020429  0.006559 -0.005648\n",
              "2021-09-01 00:00:00-04:00 -0.001439  0.007399 -0.002218 -0.000166"
            ],
            "text/html": [
              "\n",
              "  <div id=\"df-7c6d17a8-a140-41dd-ab62-e372e0523716\" class=\"colab-df-container\">\n",
              "    <div>\n",
              "<style scoped>\n",
              "    .dataframe tbody tr th:only-of-type {\n",
              "        vertical-align: middle;\n",
              "    }\n",
              "\n",
              "    .dataframe tbody tr th {\n",
              "        vertical-align: top;\n",
              "    }\n",
              "\n",
              "    .dataframe thead th {\n",
              "        text-align: right;\n",
              "    }\n",
              "</style>\n",
              "<table border=\"1\" class=\"dataframe\">\n",
              "  <thead>\n",
              "    <tr style=\"text-align: right;\">\n",
              "      <th></th>\n",
              "      <th>JPM</th>\n",
              "      <th>WELL</th>\n",
              "      <th>TSLA</th>\n",
              "      <th>MSFT</th>\n",
              "    </tr>\n",
              "    <tr>\n",
              "      <th>Date</th>\n",
              "      <th></th>\n",
              "      <th></th>\n",
              "      <th></th>\n",
              "      <th></th>\n",
              "    </tr>\n",
              "  </thead>\n",
              "  <tbody>\n",
              "    <tr>\n",
              "      <th>2021-08-26 00:00:00-04:00</th>\n",
              "      <td>0.005145</td>\n",
              "      <td>-0.002595</td>\n",
              "      <td>-0.014218</td>\n",
              "      <td>-0.009716</td>\n",
              "    </tr>\n",
              "    <tr>\n",
              "      <th>2021-08-27 00:00:00-04:00</th>\n",
              "      <td>0.008005</td>\n",
              "      <td>0.011391</td>\n",
              "      <td>0.015229</td>\n",
              "      <td>0.002104</td>\n",
              "    </tr>\n",
              "    <tr>\n",
              "      <th>2021-08-30 00:00:00-04:00</th>\n",
              "      <td>-0.016137</td>\n",
              "      <td>0.001400</td>\n",
              "      <td>0.026325</td>\n",
              "      <td>0.012829</td>\n",
              "    </tr>\n",
              "    <tr>\n",
              "      <th>2021-08-31 00:00:00-04:00</th>\n",
              "      <td>-0.003059</td>\n",
              "      <td>0.020429</td>\n",
              "      <td>0.006559</td>\n",
              "      <td>-0.005648</td>\n",
              "    </tr>\n",
              "    <tr>\n",
              "      <th>2021-09-01 00:00:00-04:00</th>\n",
              "      <td>-0.001439</td>\n",
              "      <td>0.007399</td>\n",
              "      <td>-0.002218</td>\n",
              "      <td>-0.000166</td>\n",
              "    </tr>\n",
              "  </tbody>\n",
              "</table>\n",
              "</div>\n",
              "    <div class=\"colab-df-buttons\">\n",
              "\n",
              "  <div class=\"colab-df-container\">\n",
              "    <button class=\"colab-df-convert\" onclick=\"convertToInteractive('df-7c6d17a8-a140-41dd-ab62-e372e0523716')\"\n",
              "            title=\"Convert this dataframe to an interactive table.\"\n",
              "            style=\"display:none;\">\n",
              "\n",
              "  <svg xmlns=\"http://www.w3.org/2000/svg\" height=\"24px\" viewBox=\"0 -960 960 960\">\n",
              "    <path d=\"M120-120v-720h720v720H120Zm60-500h600v-160H180v160Zm220 220h160v-160H400v160Zm0 220h160v-160H400v160ZM180-400h160v-160H180v160Zm440 0h160v-160H620v160ZM180-180h160v-160H180v160Zm440 0h160v-160H620v160Z\"/>\n",
              "  </svg>\n",
              "    </button>\n",
              "\n",
              "  <style>\n",
              "    .colab-df-container {\n",
              "      display:flex;\n",
              "      gap: 12px;\n",
              "    }\n",
              "\n",
              "    .colab-df-convert {\n",
              "      background-color: #E8F0FE;\n",
              "      border: none;\n",
              "      border-radius: 50%;\n",
              "      cursor: pointer;\n",
              "      display: none;\n",
              "      fill: #1967D2;\n",
              "      height: 32px;\n",
              "      padding: 0 0 0 0;\n",
              "      width: 32px;\n",
              "    }\n",
              "\n",
              "    .colab-df-convert:hover {\n",
              "      background-color: #E2EBFA;\n",
              "      box-shadow: 0px 1px 2px rgba(60, 64, 67, 0.3), 0px 1px 3px 1px rgba(60, 64, 67, 0.15);\n",
              "      fill: #174EA6;\n",
              "    }\n",
              "\n",
              "    .colab-df-buttons div {\n",
              "      margin-bottom: 4px;\n",
              "    }\n",
              "\n",
              "    [theme=dark] .colab-df-convert {\n",
              "      background-color: #3B4455;\n",
              "      fill: #D2E3FC;\n",
              "    }\n",
              "\n",
              "    [theme=dark] .colab-df-convert:hover {\n",
              "      background-color: #434B5C;\n",
              "      box-shadow: 0px 1px 3px 1px rgba(0, 0, 0, 0.15);\n",
              "      filter: drop-shadow(0px 1px 2px rgba(0, 0, 0, 0.3));\n",
              "      fill: #FFFFFF;\n",
              "    }\n",
              "  </style>\n",
              "\n",
              "    <script>\n",
              "      const buttonEl =\n",
              "        document.querySelector('#df-7c6d17a8-a140-41dd-ab62-e372e0523716 button.colab-df-convert');\n",
              "      buttonEl.style.display =\n",
              "        google.colab.kernel.accessAllowed ? 'block' : 'none';\n",
              "\n",
              "      async function convertToInteractive(key) {\n",
              "        const element = document.querySelector('#df-7c6d17a8-a140-41dd-ab62-e372e0523716');\n",
              "        const dataTable =\n",
              "          await google.colab.kernel.invokeFunction('convertToInteractive',\n",
              "                                                    [key], {});\n",
              "        if (!dataTable) return;\n",
              "\n",
              "        const docLinkHtml = 'Like what you see? Visit the ' +\n",
              "          '<a target=\"_blank\" href=https://colab.research.google.com/notebooks/data_table.ipynb>data table notebook</a>'\n",
              "          + ' to learn more about interactive tables.';\n",
              "        element.innerHTML = '';\n",
              "        dataTable['output_type'] = 'display_data';\n",
              "        await google.colab.output.renderOutput(dataTable, element);\n",
              "        const docLink = document.createElement('div');\n",
              "        docLink.innerHTML = docLinkHtml;\n",
              "        element.appendChild(docLink);\n",
              "      }\n",
              "    </script>\n",
              "  </div>\n",
              "\n",
              "\n",
              "<div id=\"df-b7a9885a-da6e-465e-89b2-988a5cef9d9a\">\n",
              "  <button class=\"colab-df-quickchart\" onclick=\"quickchart('df-b7a9885a-da6e-465e-89b2-988a5cef9d9a')\"\n",
              "            title=\"Suggest charts.\"\n",
              "            style=\"display:none;\">\n",
              "\n",
              "<svg xmlns=\"http://www.w3.org/2000/svg\" height=\"24px\"viewBox=\"0 0 24 24\"\n",
              "     width=\"24px\">\n",
              "    <g>\n",
              "        <path d=\"M19 3H5c-1.1 0-2 .9-2 2v14c0 1.1.9 2 2 2h14c1.1 0 2-.9 2-2V5c0-1.1-.9-2-2-2zM9 17H7v-7h2v7zm4 0h-2V7h2v10zm4 0h-2v-4h2v4z\"/>\n",
              "    </g>\n",
              "</svg>\n",
              "  </button>\n",
              "\n",
              "<style>\n",
              "  .colab-df-quickchart {\n",
              "    background-color: #E8F0FE;\n",
              "    border: none;\n",
              "    border-radius: 50%;\n",
              "    cursor: pointer;\n",
              "    display: none;\n",
              "    fill: #1967D2;\n",
              "    height: 32px;\n",
              "    padding: 0 0 0 0;\n",
              "    width: 32px;\n",
              "  }\n",
              "\n",
              "  .colab-df-quickchart:hover {\n",
              "    background-color: #E2EBFA;\n",
              "    box-shadow: 0px 1px 2px rgba(60, 64, 67, 0.3), 0px 1px 3px 1px rgba(60, 64, 67, 0.15);\n",
              "    fill: #174EA6;\n",
              "  }\n",
              "\n",
              "  [theme=dark] .colab-df-quickchart {\n",
              "    background-color: #3B4455;\n",
              "    fill: #D2E3FC;\n",
              "  }\n",
              "\n",
              "  [theme=dark] .colab-df-quickchart:hover {\n",
              "    background-color: #434B5C;\n",
              "    box-shadow: 0px 1px 3px 1px rgba(0, 0, 0, 0.15);\n",
              "    filter: drop-shadow(0px 1px 2px rgba(0, 0, 0, 0.3));\n",
              "    fill: #FFFFFF;\n",
              "  }\n",
              "</style>\n",
              "\n",
              "  <script>\n",
              "    async function quickchart(key) {\n",
              "      const charts = await google.colab.kernel.invokeFunction(\n",
              "          'suggestCharts', [key], {});\n",
              "    }\n",
              "    (() => {\n",
              "      let quickchartButtonEl =\n",
              "        document.querySelector('#df-b7a9885a-da6e-465e-89b2-988a5cef9d9a button');\n",
              "      quickchartButtonEl.style.display =\n",
              "        google.colab.kernel.accessAllowed ? 'block' : 'none';\n",
              "    })();\n",
              "  </script>\n",
              "</div>\n",
              "    </div>\n",
              "  </div>\n"
            ]
          },
          "metadata": {},
          "execution_count": 227
        }
      ],
      "source": [
        "# creating a dataframe of daily log return\n",
        "df_returns = np.log(1 + df.pct_change())\n",
        "df_returns = df_returns.dropna()\n",
        "df_returns.head()"
      ]
    },
    {
      "cell_type": "code",
      "source": [
        "df_returns.mean()"
      ],
      "metadata": {
        "colab": {
          "base_uri": "https://localhost:8080/"
        },
        "id": "GVxzvnqLBN9p",
        "outputId": "e5200402-3c1e-4e20-b7e2-e0dc5d35af1c"
      },
      "execution_count": 228,
      "outputs": [
        {
          "output_type": "execute_result",
          "data": {
            "text/plain": [
              "JPM    -0.000062\n",
              "WELL    0.000029\n",
              "TSLA    0.000013\n",
              "MSFT    0.000169\n",
              "dtype: float64"
            ]
          },
          "metadata": {},
          "execution_count": 228
        }
      ]
    },
    {
      "cell_type": "markdown",
      "metadata": {
        "id": "u_huJvQBBhlb"
      },
      "source": [
        "## Computing the covariance matrix of our portfolio."
      ]
    },
    {
      "cell_type": "code",
      "execution_count": 229,
      "metadata": {
        "colab": {
          "base_uri": "https://localhost:8080/",
          "height": 175
        },
        "id": "DLbjfOnEBhlb",
        "outputId": "5e70e42e-60e0-4a58-e6fb-c7d6f2e3a576"
      },
      "outputs": [
        {
          "output_type": "execute_result",
          "data": {
            "text/plain": [
              "           JPM      WELL      TSLA      MSFT\n",
              "JPM   0.069073  0.022508  0.052486  0.030395\n",
              "WELL  0.022508  0.073658  0.030011  0.025303\n",
              "TSLA  0.052486  0.030011  0.382822  0.089732\n",
              "MSFT  0.030395  0.025303  0.089732  0.095114"
            ],
            "text/html": [
              "\n",
              "  <div id=\"df-bb4be9ad-f5c5-4283-ac1e-4985f482a89f\" class=\"colab-df-container\">\n",
              "    <div>\n",
              "<style scoped>\n",
              "    .dataframe tbody tr th:only-of-type {\n",
              "        vertical-align: middle;\n",
              "    }\n",
              "\n",
              "    .dataframe tbody tr th {\n",
              "        vertical-align: top;\n",
              "    }\n",
              "\n",
              "    .dataframe thead th {\n",
              "        text-align: right;\n",
              "    }\n",
              "</style>\n",
              "<table border=\"1\" class=\"dataframe\">\n",
              "  <thead>\n",
              "    <tr style=\"text-align: right;\">\n",
              "      <th></th>\n",
              "      <th>JPM</th>\n",
              "      <th>WELL</th>\n",
              "      <th>TSLA</th>\n",
              "      <th>MSFT</th>\n",
              "    </tr>\n",
              "  </thead>\n",
              "  <tbody>\n",
              "    <tr>\n",
              "      <th>JPM</th>\n",
              "      <td>0.069073</td>\n",
              "      <td>0.022508</td>\n",
              "      <td>0.052486</td>\n",
              "      <td>0.030395</td>\n",
              "    </tr>\n",
              "    <tr>\n",
              "      <th>WELL</th>\n",
              "      <td>0.022508</td>\n",
              "      <td>0.073658</td>\n",
              "      <td>0.030011</td>\n",
              "      <td>0.025303</td>\n",
              "    </tr>\n",
              "    <tr>\n",
              "      <th>TSLA</th>\n",
              "      <td>0.052486</td>\n",
              "      <td>0.030011</td>\n",
              "      <td>0.382822</td>\n",
              "      <td>0.089732</td>\n",
              "    </tr>\n",
              "    <tr>\n",
              "      <th>MSFT</th>\n",
              "      <td>0.030395</td>\n",
              "      <td>0.025303</td>\n",
              "      <td>0.089732</td>\n",
              "      <td>0.095114</td>\n",
              "    </tr>\n",
              "  </tbody>\n",
              "</table>\n",
              "</div>\n",
              "    <div class=\"colab-df-buttons\">\n",
              "\n",
              "  <div class=\"colab-df-container\">\n",
              "    <button class=\"colab-df-convert\" onclick=\"convertToInteractive('df-bb4be9ad-f5c5-4283-ac1e-4985f482a89f')\"\n",
              "            title=\"Convert this dataframe to an interactive table.\"\n",
              "            style=\"display:none;\">\n",
              "\n",
              "  <svg xmlns=\"http://www.w3.org/2000/svg\" height=\"24px\" viewBox=\"0 -960 960 960\">\n",
              "    <path d=\"M120-120v-720h720v720H120Zm60-500h600v-160H180v160Zm220 220h160v-160H400v160Zm0 220h160v-160H400v160ZM180-400h160v-160H180v160Zm440 0h160v-160H620v160ZM180-180h160v-160H180v160Zm440 0h160v-160H620v160Z\"/>\n",
              "  </svg>\n",
              "    </button>\n",
              "\n",
              "  <style>\n",
              "    .colab-df-container {\n",
              "      display:flex;\n",
              "      gap: 12px;\n",
              "    }\n",
              "\n",
              "    .colab-df-convert {\n",
              "      background-color: #E8F0FE;\n",
              "      border: none;\n",
              "      border-radius: 50%;\n",
              "      cursor: pointer;\n",
              "      display: none;\n",
              "      fill: #1967D2;\n",
              "      height: 32px;\n",
              "      padding: 0 0 0 0;\n",
              "      width: 32px;\n",
              "    }\n",
              "\n",
              "    .colab-df-convert:hover {\n",
              "      background-color: #E2EBFA;\n",
              "      box-shadow: 0px 1px 2px rgba(60, 64, 67, 0.3), 0px 1px 3px 1px rgba(60, 64, 67, 0.15);\n",
              "      fill: #174EA6;\n",
              "    }\n",
              "\n",
              "    .colab-df-buttons div {\n",
              "      margin-bottom: 4px;\n",
              "    }\n",
              "\n",
              "    [theme=dark] .colab-df-convert {\n",
              "      background-color: #3B4455;\n",
              "      fill: #D2E3FC;\n",
              "    }\n",
              "\n",
              "    [theme=dark] .colab-df-convert:hover {\n",
              "      background-color: #434B5C;\n",
              "      box-shadow: 0px 1px 3px 1px rgba(0, 0, 0, 0.15);\n",
              "      filter: drop-shadow(0px 1px 2px rgba(0, 0, 0, 0.3));\n",
              "      fill: #FFFFFF;\n",
              "    }\n",
              "  </style>\n",
              "\n",
              "    <script>\n",
              "      const buttonEl =\n",
              "        document.querySelector('#df-bb4be9ad-f5c5-4283-ac1e-4985f482a89f button.colab-df-convert');\n",
              "      buttonEl.style.display =\n",
              "        google.colab.kernel.accessAllowed ? 'block' : 'none';\n",
              "\n",
              "      async function convertToInteractive(key) {\n",
              "        const element = document.querySelector('#df-bb4be9ad-f5c5-4283-ac1e-4985f482a89f');\n",
              "        const dataTable =\n",
              "          await google.colab.kernel.invokeFunction('convertToInteractive',\n",
              "                                                    [key], {});\n",
              "        if (!dataTable) return;\n",
              "\n",
              "        const docLinkHtml = 'Like what you see? Visit the ' +\n",
              "          '<a target=\"_blank\" href=https://colab.research.google.com/notebooks/data_table.ipynb>data table notebook</a>'\n",
              "          + ' to learn more about interactive tables.';\n",
              "        element.innerHTML = '';\n",
              "        dataTable['output_type'] = 'display_data';\n",
              "        await google.colab.output.renderOutput(dataTable, element);\n",
              "        const docLink = document.createElement('div');\n",
              "        docLink.innerHTML = docLinkHtml;\n",
              "        element.appendChild(docLink);\n",
              "      }\n",
              "    </script>\n",
              "  </div>\n",
              "\n",
              "    </div>\n",
              "  </div>\n"
            ]
          },
          "metadata": {},
          "execution_count": 229
        }
      ],
      "source": [
        "# computing the annualised covariance matrix\n",
        "covM = df_returns.cov() * 252\n",
        "covM"
      ]
    },
    {
      "cell_type": "markdown",
      "metadata": {
        "id": "GIrOktmWBhlb"
      },
      "source": [
        "## Computing the variance of our portfolio\n",
        "The variance of the portfolio, $ \\sigma_p^2 $,  with $ n $ assets denoted by $ r_j  $ for $ j = 1 , \\dots, n $, can be computed by\n",
        "$$ \\sigma_p^2 = \\sum\\limits_{j =1 }^{n } \\sum\\limits_{i =1 }^{n } w_j w_i \\text{Cov }(r_j , r_i) = \\sum\\limits_{j =1 }^{n } w_j \\sum\\limits_{i =1 }^{n } w_i \\text{Cov }(r_j , r_i) $$\n",
        "and the above expression can be simplifed as\n",
        "$$ \\sigma_p^2 = \\boldsymbol{w}^T \\boldsymbol{\\Sigma}  \\boldsymbol{w}$$\n",
        "where $ \\boldsymbol{w} $ is the weights vector and $ \\Sigma $ is the covarince matrix of the portfolio"
      ]
    },
    {
      "cell_type": "code",
      "execution_count": 230,
      "metadata": {
        "colab": {
          "base_uri": "https://localhost:8080/"
        },
        "id": "0Dpzl5YbBhlb",
        "outputId": "e608d58d-bc6b-483f-d6e0-495b996ddcfd"
      },
      "outputs": [
        {
          "output_type": "execute_result",
          "data": {
            "text/plain": [
              "0.10362235241088494"
            ]
          },
          "metadata": {},
          "execution_count": 230
        }
      ],
      "source": [
        "variance_p = np.dot(weights.T, np.dot(covM, weights))\n",
        "variance_p"
      ]
    },
    {
      "cell_type": "markdown",
      "metadata": {
        "id": "2TyGFle5Bhlc"
      },
      "source": [
        "## Computing the portfolio volitility"
      ]
    },
    {
      "cell_type": "code",
      "execution_count": 231,
      "metadata": {
        "colab": {
          "base_uri": "https://localhost:8080/"
        },
        "id": "7ehoLSldBhlc",
        "outputId": "cc549399-5e04-47d9-ea92-9b73ff375a7f"
      },
      "outputs": [
        {
          "output_type": "execute_result",
          "data": {
            "text/plain": [
              "0.32190425969670694"
            ]
          },
          "metadata": {},
          "execution_count": 231
        }
      ],
      "source": [
        "# computing the portfolio volility by taking square root portfolio variance\n",
        "vol_p= np.sqrt(variance_p)\n",
        "vol_p"
      ]
    },
    {
      "cell_type": "markdown",
      "metadata": {
        "id": "iNqJmaJGBhlc"
      },
      "source": [
        "## Computing annual portfolio return"
      ]
    },
    {
      "cell_type": "code",
      "execution_count": 232,
      "metadata": {
        "colab": {
          "base_uri": "https://localhost:8080/"
        },
        "id": "gIQ0ZWzPBhlc",
        "outputId": "7590a4c9-205f-420f-94ff-ba6112f80b79"
      },
      "outputs": [
        {
          "output_type": "execute_result",
          "data": {
            "text/plain": [
              "0.014224033913098223"
            ]
          },
          "metadata": {},
          "execution_count": 232
        }
      ],
      "source": [
        "annual_return_p = np.sum(df_returns.mean() * weights) * 252\n",
        "annual_return_p"
      ]
    },
    {
      "cell_type": "markdown",
      "source": [
        "## Getting risk-free rate from FRED API\n"
      ],
      "metadata": {
        "id": "bVeDkXrpees_"
      }
    },
    {
      "cell_type": "code",
      "source": [
        "pip install fredapi"
      ],
      "metadata": {
        "colab": {
          "base_uri": "https://localhost:8080/"
        },
        "id": "mMSPxElRfnHy",
        "outputId": "c9b15580-641a-4842-b6b2-58875e6e4c1e"
      },
      "execution_count": 233,
      "outputs": [
        {
          "output_type": "stream",
          "name": "stdout",
          "text": [
            "Requirement already satisfied: fredapi in /usr/local/lib/python3.10/dist-packages (0.5.1)\n",
            "Requirement already satisfied: pandas in /usr/local/lib/python3.10/dist-packages (from fredapi) (1.5.3)\n",
            "Requirement already satisfied: python-dateutil>=2.8.1 in /usr/local/lib/python3.10/dist-packages (from pandas->fredapi) (2.8.2)\n",
            "Requirement already satisfied: pytz>=2020.1 in /usr/local/lib/python3.10/dist-packages (from pandas->fredapi) (2023.3)\n",
            "Requirement already satisfied: numpy>=1.21.0 in /usr/local/lib/python3.10/dist-packages (from pandas->fredapi) (1.23.5)\n",
            "Requirement already satisfied: six>=1.5 in /usr/local/lib/python3.10/dist-packages (from python-dateutil>=2.8.1->pandas->fredapi) (1.16.0)\n"
          ]
        }
      ]
    },
    {
      "cell_type": "code",
      "source": [
        "from fredapi import Fred\n",
        "fred = Fred(api_key = '5306b4ab6324f2eb804f85e948176784')\n",
        "treasury_rate = fred.get_series_latest_release('GS10') / 100\n",
        "\n",
        "rfr = treasury_rate.iloc[-1]\n",
        "rfr"
      ],
      "metadata": {
        "colab": {
          "base_uri": "https://localhost:8080/"
        },
        "id": "xSoB2rjneuQf",
        "outputId": "cb2c4cfa-6bb0-4be2-94b5-14e43d826db6"
      },
      "execution_count": 234,
      "outputs": [
        {
          "output_type": "execute_result",
          "data": {
            "text/plain": [
              "0.039"
            ]
          },
          "metadata": {},
          "execution_count": 234
        }
      ]
    },
    {
      "cell_type": "markdown",
      "metadata": {
        "id": "OAAeGoUXBhlc"
      },
      "source": [
        "## Portfolio performance before optimisation"
      ]
    },
    {
      "cell_type": "code",
      "source": [
        "print('Expected portfolio return: ', annual_return_p * 100, '%')\n",
        "print('Annual volitility or risk: ', vol_p * 100, '%')\n",
        "print('Sharpe ratio:', (annual_return_p - rfr) / vol_p)"
      ],
      "metadata": {
        "colab": {
          "base_uri": "https://localhost:8080/"
        },
        "id": "ISFyns3hdimD",
        "outputId": "74fa083e-155c-4514-a0ba-25545d4c2e02"
      },
      "execution_count": 235,
      "outputs": [
        {
          "output_type": "stream",
          "name": "stdout",
          "text": [
            "Expected portfolio return:  1.4224033913098222 %\n",
            "Annual volitility or risk:  32.19042596967069 %\n",
            "Sharpe ratio: -0.07696687863107278\n"
          ]
        }
      ]
    },
    {
      "cell_type": "markdown",
      "source": [
        "# A graph of the Efficient Frontier line by sampling random weights"
      ],
      "metadata": {
        "id": "Z-Fv265vlvdL"
      }
    },
    {
      "cell_type": "code",
      "source": [
        "# initialising empty lists to store weights, returns, volatility or std deviation of portoflio\n",
        "returns = []\n",
        "weights_ls = []\n",
        "stds = []\n",
        "\n",
        "for _ in range(100000):\n",
        "  w = np.random.random(len(stocks_list))\n",
        "  w /= np.sum(w)\n",
        "  weights_ls.append(w)\n",
        "  returns.append(np.sum(df_returns.mean() * w) * 252)\n",
        "  stds.append(np.sqrt(np.dot(w.T, np.dot(covM, w))))"
      ],
      "metadata": {
        "id": "3JhTpGELl1qd"
      },
      "execution_count": 236,
      "outputs": []
    },
    {
      "cell_type": "code",
      "source": [
        "# graphing the efficient frontier\n",
        "plt.scatter(stds, returns)\n",
        "plt.title('Efficient Frontier')\n",
        "plt.xlabel('Annual Volatility $\\\\sigma_p$')\n",
        "plt.ylabel('Annual Returns')\n",
        "plt.show()"
      ],
      "metadata": {
        "colab": {
          "base_uri": "https://localhost:8080/",
          "height": 477
        },
        "id": "wxMQ3LFfm8LN",
        "outputId": "f5731aee-4f28-4819-ad28-f874d54c355d"
      },
      "execution_count": 237,
      "outputs": [
        {
          "output_type": "display_data",
          "data": {
            "text/plain": [
              "<Figure size 640x480 with 1 Axes>"
            ],
            "image/png": "[encoded data removed]"
          },
          "metadata": {}
        }
      ]
    },
    {
      "cell_type": "markdown",
      "source": [
        "An unexpected pizza shape Efficient frontier plot."
      ],
      "metadata": {
        "id": "GVxd00vkmvQa"
      }
    },
    {
      "cell_type": "markdown",
      "source": [
        "# Optimising the portfolio using Scipy minimise on Sharpe ratio"
      ],
      "metadata": {
        "id": "oFHb9jEOckBl"
      }
    },
    {
      "cell_type": "code",
      "source": [
        "from scipy.optimize import minimize"
      ],
      "metadata": {
        "id": "KVnlwz3Ac6Gm"
      },
      "execution_count": 238,
      "outputs": []
    },
    {
      "cell_type": "code",
      "source": [
        "# now we define a function to be minimised\n",
        "# we need to minimised the negative of the Sharpe ratio to get the maximum Sharpe ratio\n",
        "\n",
        "def neg_Sr(weights, returns, covM, rfr):\n",
        "  \"\"\"\n",
        "  Input:\n",
        "  weights -> the weights of the asset in the portfolio\n",
        "  returns -> dataframe of pct_change\n",
        "  covM -> covariance matrix of returns dataframe defined above\n",
        "  rfr -> risk-free rate\n",
        "  Output: the negative of Sharpe ratio\n",
        "  \"\"\"\n",
        "  exp_returns = np.sum(returns.mean() * weights) * 252\n",
        "  std = np.sqrt(np.dot(weights.T, np.dot(covM, weights)))\n",
        "  return - ((exp_returns - rfr) / std)"
      ],
      "metadata": {
        "id": "lNk7X8z6c5-2"
      },
      "execution_count": 239,
      "outputs": []
    },
    {
      "cell_type": "code",
      "source": [
        "# Setting boundaries and constraints for the minimisation\n",
        "constraints = {'type' : 'eq', 'fun': lambda weights : np.sum(weights) - 1} # setting the sum of weights to be 1\n",
        "bounds = [(0, 1) for _ in range(len(stocks_list))] # the invidivual weights can range between 0 and 1 inclusive"
      ],
      "metadata": {
        "id": "FLzOuCS9m2xL"
      },
      "execution_count": 240,
      "outputs": []
    },
    {
      "cell_type": "code",
      "source": [
        "optimized_result = minimize(neg_Sr, weights, args = (df_returns, covM, rfr), method = 'SLSQP', bounds = bounds, constraints = constraints)"
      ],
      "metadata": {
        "id": "TzASIyCPn2Od"
      },
      "execution_count": 241,
      "outputs": []
    },
    {
      "cell_type": "code",
      "source": [
        "# retrieving the optimised weights\n",
        "opt_weights = optimized_result.x"
      ],
      "metadata": {
        "id": "hATj7Eh-oQKU"
      },
      "execution_count": 242,
      "outputs": []
    },
    {
      "cell_type": "code",
      "source": [
        "# printing out the weights for each assets\n",
        "for s, w in zip(stocks_list, opt_weights):\n",
        "  print('Optimal weights for {0} : {1:.2f}'.format(s, w))"
      ],
      "metadata": {
        "colab": {
          "base_uri": "https://localhost:8080/"
        },
        "id": "kNUdMv10oTVL",
        "outputId": "8b83a99e-98fc-4830-fd32-1ddc9a7a12ed"
      },
      "execution_count": 243,
      "outputs": [
        {
          "output_type": "stream",
          "name": "stdout",
          "text": [
            "Optimal weights for JPM : 0.00\n",
            "Optimal weights for WELL : 0.00\n",
            "Optimal weights for TSLA : 0.00\n",
            "Optimal weights for MSFT : 1.00\n"
          ]
        }
      ]
    },
    {
      "cell_type": "code",
      "source": [
        "# visualisation of weights distribution\n",
        "plt.bar(stocks_list, opt_weights)\n",
        "plt.xlabel('Assets')\n",
        "plt.ylabel('Weights')\n",
        "plt.show()"
      ],
      "metadata": {
        "colab": {
          "base_uri": "https://localhost:8080/",
          "height": 449
        },
        "id": "dh0lzu0IwNBU",
        "outputId": "0be3d609-6600-44af-dada-2f36726a7598"
      },
      "execution_count": 244,
      "outputs": [
        {
          "output_type": "display_data",
          "data": {
            "text/plain": [
              "<Figure size 640x480 with 1 Axes>"
            ],
            "image/png": "[encoded data removed]"
          },
          "metadata": {}
        }
      ]
    },
    {
      "cell_type": "markdown",
      "source": [
        "## Portfolio performance with Scipy.optimize optimisation of our portfolio when the bound is $(0,1)$"
      ],
      "metadata": {
        "id": "LA0GtR-1VSrr"
      }
    },
    {
      "cell_type": "code",
      "source": [
        "variance_p = np.dot(opt_weights.T, np.dot(covM, opt_weights))\n",
        "vol_p = np.sqrt(variance_p)\n",
        "annual_return_p = np.sum(df_returns.mean() * opt_weights) * 252\n",
        "\n",
        "print('Expected portfolio return: ', annual_return_p * 100, '%')\n",
        "print('Annual volitility or risk: ', vol_p * 100, '%')\n",
        "print('Sharpe ratio:', (annual_return_p - rfr) / vol_p)"
      ],
      "metadata": {
        "colab": {
          "base_uri": "https://localhost:8080/"
        },
        "id": "vbnvNGaXVbIS",
        "outputId": "cc472f3f-b3c3-462c-e483-0c086690aad9"
      },
      "execution_count": 245,
      "outputs": [
        {
          "output_type": "stream",
          "name": "stdout",
          "text": [
            "Expected portfolio return:  4.262697075122872 %\n",
            "Annual volitility or risk:  30.840627810345566 %\n",
            "Sharpe ratio: 0.011760366142780147\n"
          ]
        }
      ]
    },
    {
      "cell_type": "markdown",
      "source": [
        "## Experimental: Setting the constraints of the weights to only be in $(0, 0.5)$"
      ],
      "metadata": {
        "id": "RA_jXngCtmFi"
      }
    },
    {
      "cell_type": "code",
      "source": [
        "# setting bounds to be in btw (0, 0.5)\n",
        "bounds = [(0, 0.5) for _ in range(len(stocks_list))]"
      ],
      "metadata": {
        "id": "sqAWjOYStvrF"
      },
      "execution_count": 246,
      "outputs": []
    },
    {
      "cell_type": "code",
      "source": [
        "optimized_result = minimize(neg_Sr, weights, args = (df_returns, covM, rfr), method = 'SLSQP', bounds = bounds, constraints = constraints)"
      ],
      "metadata": {
        "id": "H8J_A4Lkvzq8"
      },
      "execution_count": 247,
      "outputs": []
    },
    {
      "cell_type": "code",
      "source": [
        "# retrieving the optimal weights with new bounds\n",
        "opt_weights = optimized_result.x\n",
        "\n",
        "# reading of the optimal weights\n",
        "for s, w in zip(stocks_list, opt_weights):\n",
        "  print('Optimal weights for {0} : {1:.2f}'.format(s, w))"
      ],
      "metadata": {
        "colab": {
          "base_uri": "https://localhost:8080/"
        },
        "id": "wfT9QxW7v4KL",
        "outputId": "2fad3be6-51c9-4437-abe0-91fc179edb03"
      },
      "execution_count": 248,
      "outputs": [
        {
          "output_type": "stream",
          "name": "stdout",
          "text": [
            "Optimal weights for JPM : 0.00\n",
            "Optimal weights for WELL : 0.00\n",
            "Optimal weights for TSLA : 0.50\n",
            "Optimal weights for MSFT : 0.50\n"
          ]
        }
      ]
    },
    {
      "cell_type": "code",
      "source": [
        "# visualisation of the new weights distribution\n",
        "plt.bar(stocks_list, opt_weights)\n",
        "plt.xlabel('Assets')\n",
        "plt.ylabel('Weights')\n",
        "plt.show()"
      ],
      "metadata": {
        "colab": {
          "base_uri": "https://localhost:8080/",
          "height": 449
        },
        "id": "XKow9YxywmCW",
        "outputId": "15e53266-92fc-4f33-8300-6ad34aaf1481"
      },
      "execution_count": 249,
      "outputs": [
        {
          "output_type": "display_data",
          "data": {
            "text/plain": [
              "<Figure size 640x480 with 1 Axes>"
            ],
            "image/png": "[encoded data removed]"
          },
          "metadata": {}
        }
      ]
    },
    {
      "cell_type": "markdown",
      "source": [
        "## Portfolio performance with Scipy.optimize optimisation of our portfolio when the bound is $(0,0.5)$"
      ],
      "metadata": {
        "id": "IokS-wtLZyYD"
      }
    },
    {
      "cell_type": "code",
      "source": [
        "variance_p = np.dot(opt_weights.T, np.dot(covM, opt_weights))\n",
        "vol_p = np.sqrt(variance_p)\n",
        "annual_return_p = np.sum(df_returns.mean() * opt_weights) * 252\n",
        "\n",
        "print('Expected portfolio return: ', annual_return_p * 100, '%')\n",
        "print('Annual volitility or risk: ', vol_p * 100, '%')\n",
        "print('Sharpe ratio:', (annual_return_p - rfr) / vol_p)"
      ],
      "metadata": {
        "colab": {
          "base_uri": "https://localhost:8080/"
        },
        "id": "wC_2p0V1Zyya",
        "outputId": "232d79ab-78b4-443b-9ca1-2938c42a708b"
      },
      "execution_count": 250,
      "outputs": [
        {
          "output_type": "stream",
          "name": "stdout",
          "text": [
            "Expected portfolio return:  2.29179666320712 %\n",
            "Annual volitility or risk:  40.54011805940439 %\n",
            "Sharpe ratio: -0.03966942904399887\n"
          ]
        }
      ]
    },
    {
      "cell_type": "markdown",
      "metadata": {
        "id": "sZ_9FpeWBhlc"
      },
      "source": [
        "# Optimising the portfolio using PyPortfolioOpt package"
      ]
    },
    {
      "cell_type": "code",
      "execution_count": 262,
      "metadata": {
        "id": "l_jRz8rPBhlc"
      },
      "outputs": [],
      "source": [
        "# installing the required package (if have not already)\n",
        "# pip install PyPortfolioOpt\n"
      ]
    },
    {
      "cell_type": "code",
      "execution_count": 259,
      "metadata": {
        "id": "CNYu89oxBhlc"
      },
      "outputs": [],
      "source": [
        "from pypfopt.efficient_frontier import EfficientFrontier\n",
        "from pypfopt import risk_models\n",
        "from pypfopt import expected_returns"
      ]
    },
    {
      "cell_type": "markdown",
      "source": [
        "## Calculating expected returns"
      ],
      "metadata": {
        "id": "ntvKTgLBEQGF"
      }
    },
    {
      "cell_type": "code",
      "source": [
        "mu = expected_returns.mean_historical_return(df)\n",
        "S = risk_models.sample_cov(df)\n",
        "mu"
      ],
      "metadata": {
        "colab": {
          "base_uri": "https://localhost:8080/"
        },
        "id": "1leZkPkMo54V",
        "outputId": "87995a1b-c8a1-49e9-d6ab-65efc906d8a3"
      },
      "execution_count": 260,
      "outputs": [
        {
          "output_type": "execute_result",
          "data": {
            "text/plain": [
              "JPM    -0.015426\n",
              "WELL    0.007380\n",
              "TSLA    0.003214\n",
              "MSFT    0.043549\n",
              "dtype: float64"
            ]
          },
          "metadata": {},
          "execution_count": 260
        }
      ]
    },
    {
      "cell_type": "markdown",
      "source": [
        "## Optimise for max sharpe ratio"
      ],
      "metadata": {
        "id": "MfNplCwGEjfO"
      }
    },
    {
      "cell_type": "code",
      "source": [
        "ef = EfficientFrontier(mu, S)\n",
        "weight = ef.max_sharpe(risk_free_rate = rfr)\n",
        "cleaned_weights = ef.clean_weights()\n",
        "cleaned_weights"
      ],
      "metadata": {
        "colab": {
          "base_uri": "https://localhost:8080/"
        },
        "id": "h6VWLU2xEhQr",
        "outputId": "a80e8f1c-5a71-4d0f-807e-fd6140f3e4bc"
      },
      "execution_count": 261,
      "outputs": [
        {
          "output_type": "execute_result",
          "data": {
            "text/plain": [
              "OrderedDict([('JPM', 0.0), ('WELL', 0.0), ('TSLA', 0.0), ('MSFT', 1.0)])"
            ]
          },
          "metadata": {},
          "execution_count": 261
        }
      ]
    },
    {
      "cell_type": "code",
      "source": [
        "# reading the expected performance of our portfolio\n",
        "ef.portfolio_performance(verbose = True, risk_free_rate = rfr)"
      ],
      "metadata": {
        "colab": {
          "base_uri": "https://localhost:8080/"
        },
        "id": "AjRt71NUFBA7",
        "outputId": "10aecbe2-bdcd-487b-e872-0de43d6eaa1a"
      },
      "execution_count": 257,
      "outputs": [
        {
          "output_type": "stream",
          "name": "stdout",
          "text": [
            "Expected annual return: 4.4%\n",
            "Annual volatility: 30.9%\n",
            "Sharpe Ratio: 0.01\n"
          ]
        },
        {
          "output_type": "execute_result",
          "data": {
            "text/plain": [
              "(0.04354854810530905, 0.3087891779102639, 0.014730270458606842)"
            ]
          },
          "metadata": {},
          "execution_count": 257
        }
      ]
    },
    {
      "cell_type": "markdown",
      "source": [
        "Result is pretty similar to using Scipy.optimize, I suspect the slight difference is due to the weights used are \"cleaned\" and rounded up."
      ],
      "metadata": {
        "id": "StnXBzf8o-5q"
      }
    },
    {
      "cell_type": "code",
      "source": [],
      "metadata": {
        "id": "RLmYXHfqHWJ6"
      },
      "execution_count": 255,
      "outputs": []
    }
  ],
  "metadata": {
    "kernelspec": {
      "display_name": "base",
      "language": "python",
      "name": "python3"
    },
    "language_info": {
      "codemirror_mode": {
        "name": "ipython",
        "version": 3
      },
      "file_extension": ".py",
      "mimetype": "text/x-python",
      "name": "python",
      "nbconvert_exporter": "python",
      "pygments_lexer": "ipython3",
      "version": "3.9.17"
    },
    "orig_nbformat": 4,
    "colab": {
      "provenance": []
    }
  },
  "nbformat": 4,
  "nbformat_minor": 0
}